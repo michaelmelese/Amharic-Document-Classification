{
 "cells": [
  {
   "cell_type": "code",
   "execution_count": 1,
   "metadata": {},
   "outputs": [],
   "source": [
    "import numpy as np\n",
    "import pandas as pd\n",
    "from sklearn.ensemble import GradientBoostingClassifier\n",
    "from sklearn.svm import LinearSVC\n",
    "from sklearn import metrics\n",
    "from sklearn.feature_extraction.text import CountVectorizer\n",
    "from sklearn import tree\n",
    "from sklearn.metrics import confusion_matrix\n",
    "from sklearn.model_selection import train_test_split"
   ]
  },
  {
   "cell_type": "code",
   "execution_count": 2,
   "metadata": {},
   "outputs": [],
   "source": [
    "resource = pd.read_csv('adc-word.csv')\n",
    "sentences_train, sentences_test, y_train_data, y_test = train_test_split(resource['documents'], resource['category'], test_size=0.2, random_state=42)\n",
    "vectorizer = CountVectorizer()\n",
    "vectorizer.fit(resource['documents'])\n",
    "text_vector_train = vectorizer.fit_transform(sentences_train)\n",
    "X_test  = vectorizer.transform(sentences_test)"
   ]
  },
  {
   "cell_type": "code",
   "execution_count": 4,
   "metadata": {},
   "outputs": [
    {
     "data": {
      "text/plain": [
       "((54191, 765127), (13548, 765127))"
      ]
     },
     "execution_count": 4,
     "metadata": {},
     "output_type": "execute_result"
    }
   ],
   "source": [
    "text_vector_train.shape, X_test.shape"
   ]
  },
  {
   "cell_type": "code",
   "execution_count": 5,
   "metadata": {},
   "outputs": [],
   "source": [
    "from imblearn.over_sampling import SMOTE\n",
    "sm = SMOTE(random_state=42)\n",
    "X_train, y_train = sm.fit_sample(text_vector_train, y_train_data.ravel())"
   ]
  },
  {
   "cell_type": "code",
   "execution_count": 6,
   "metadata": {
    "scrolled": true
   },
   "outputs": [
    {
     "name": "stdout",
     "output_type": "stream",
     "text": [
      "              precision    recall  f1-score   support\n",
      "\n",
      "           0       0.78      0.63      0.70      4926\n",
      "           1       0.76      0.81      0.78      3215\n",
      "           2       0.78      0.78      0.78      3147\n",
      "           3       0.87      0.97      0.92       766\n",
      "           4       0.90      0.96      0.93       631\n",
      "           5       0.33      0.62      0.43       435\n",
      "           6       0.48      0.73      0.58       313\n",
      "           7       0.72      0.97      0.83       115\n",
      "\n",
      "    accuracy                           0.75     13548\n",
      "   macro avg       0.70      0.81      0.74     13548\n",
      "weighted avg       0.76      0.75      0.75     13548\n",
      "\n"
     ]
    }
   ],
   "source": [
    "classification = GradientBoostingClassifier()\n",
    "classification.fit(X_train, y_train)\n",
    "predicted = classification.predict(X_test)\n",
    "print(metrics.classification_report(y_test, predicted))\n",
    "cm = confusion_matrix(y_test, predicted)"
   ]
  },
  {
   "cell_type": "code",
   "execution_count": 7,
   "metadata": {},
   "outputs": [
    {
     "name": "stdout",
     "output_type": "stream",
     "text": [
      "Accuracy :  0.7477118393858873\n"
     ]
    }
   ],
   "source": [
    "from sklearn.metrics import accuracy_score\n",
    "print(\"Accuracy : \", accuracy_score(y_test, predicted))"
   ]
  },
  {
   "cell_type": "code",
   "execution_count": 8,
   "metadata": {},
   "outputs": [
    {
     "name": "stdout",
     "output_type": "stream",
     "text": [
      "[[3115  607  440  103   53  471  115   22]\n",
      " [ 318 2595  210    6    9   26   38   13]\n",
      " [ 349  207 2463    1    7   32   81    7]\n",
      " [  17    2    1  742    0    2    1    1]\n",
      " [   7    5    4    0  608    1    6    0]\n",
      " [ 140    5   12    1    1  268    7    1]\n",
      " [  30   10   37    0    0    9  227    0]\n",
      " [   1    1    1    0    0    0    0  112]]\n"
     ]
    }
   ],
   "source": [
    "print(cm)"
   ]
  },
  {
   "cell_type": "code",
   "execution_count": 9,
   "metadata": {},
   "outputs": [
    {
     "data": {
      "image/png": "[encoded data removed]",
      "text/plain": [
       "<Figure size 432x288 with 2 Axes>"
      ]
     },
     "metadata": {
      "needs_background": "light"
     },
     "output_type": "display_data"
    }
   ],
   "source": [
    "import matplotlib.pyplot as plt\n",
    "import itertools\n",
    "cmap = plt.cm.Blues\n",
    "title = \"Gradient Boosting\"\n",
    "classes = 8\n",
    "normalize = False\n",
    "tick_marks = np.arange(classes)\n",
    "plt.imshow(cm, interpolation='nearest', cmap=cmap)\n",
    "plt.title(title)\n",
    "plt.colorbar()\n",
    "tick_marks = np.arange(10)\n",
    "fmt = '.2f' if normalize else 'd'\n",
    "thresh = cm.max() / 5.\n",
    "for i, j in itertools.product(range(cm.shape[0]), range(cm.shape[1])):\n",
    "    plt.text(j, i, format(cm[i, j], fmt),\n",
    "             horizontalalignment=\"center\",\n",
    "             color=\"white\" if cm[i, j] > thresh else \"black\")\n",
    "plt.tight_layout()\n",
    "plt.ylabel('True label')\n",
    "plt.xlabel('Predicted label')\n",
    "plt.show()"
   ]
  }
 ],
 "metadata": {
  "kernelspec": {
   "display_name": "Python 3",
   "language": "python",
   "name": "python3"
  },
  "language_info": {
   "codemirror_mode": {
    "name": "ipython",
    "version": 3
   },
   "file_extension": ".py",
   "mimetype": "text/x-python",
   "name": "python",
   "nbconvert_exporter": "python",
   "pygments_lexer": "ipython3",
   "version": "3.7.6"
  }
 },
 "nbformat": 4,
 "nbformat_minor": 4
}
