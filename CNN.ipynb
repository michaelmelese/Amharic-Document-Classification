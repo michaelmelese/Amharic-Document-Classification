{
 "cells": [
  {
   "cell_type": "code",
   "execution_count": 1,
   "metadata": {
    "scrolled": true
   },
   "outputs": [
    {
     "name": "stderr",
     "output_type": "stream",
     "text": [
      "Using TensorFlow backend.\n"
     ]
    }
   ],
   "source": [
    "#dependencies\n",
    "from string import punctuation\n",
    "from os import listdir\n",
    "from collections import Counter\n",
    "from nltk.corpus import stopwords\n",
    "import pandas as pd\n",
    "import numpy as np\n",
    "from numpy import array\n",
    "import tensorflow as tf\n",
    "from tensorflow import keras\n",
    "from keras.preprocessing.text import Tokenizer\n",
    "from sklearn.model_selection import train_test_split\n",
    "from keras.preprocessing.sequence import pad_sequences\n",
    "from keras.models import Sequential\n",
    "from keras.layers import Dense, Dropout\n",
    "from keras.layers import Flatten\n",
    "from keras.layers import Embedding\n",
    "from keras.layers.convolutional import Conv1D\n",
    "from keras.layers.convolutional import MaxPooling1D\n",
    "from sklearn.preprocessing import LabelBinarizer"
   ]
  },
  {
   "cell_type": "code",
   "execution_count": 2,
   "metadata": {},
   "outputs": [],
   "source": [
    "resource = pd.read_csv('adc-word.csv')"
   ]
  },
  {
   "cell_type": "code",
   "execution_count": 3,
   "metadata": {},
   "outputs": [],
   "source": [
    "words = set()\n",
    "vocab = {}"
   ]
  },
  {
   "cell_type": "code",
   "execution_count": 4,
   "metadata": {
    "scrolled": true
   },
   "outputs": [
    {
     "name": "stdout",
     "output_type": "stream",
     "text": [
      "   Unnamed: 0                                          documents  category  \\\n",
      "0           0  አምስት ነባር መንደሮችን ለማፍረስ ከተነሺዎች ጋር ውይይት ሊጀመር ነው ።...         0   \n",
      "1           1  የኔ ትውልድ ኮንሰርት ዛሬ ይቀርባል ። ከቅርብ ጊዜ ወዲህ ተወዳጅነትን እ...         0   \n",
      "2           2  ሞሎች እና ብርሀን ። አላማው መብላት ስለሆነ አለማስበላት አላማው ሊሆን ...         0   \n",
      "3           3  የእርስ በእርስ ግንኙነቶችና ግጭቶች ። የእርስ በእርስ ግንኙነት አንዱ ወ...         0   \n",
      "4           4  ስምንት መቶ አመታት ያስቆጠሩ የጣና ገዳማት እድሳት እንደሚያስፈልጋቸው ተ...         0   \n",
      "\n",
      "   labels       source  \n",
      "0  social     Reporter  \n",
      "1  social  Addis Admas  \n",
      "2  social  Addis Admas  \n",
      "3  social  Addis Admas  \n",
      "4  social     Reporter  \n"
     ]
    }
   ],
   "source": [
    "print(resource.head())"
   ]
  },
  {
   "cell_type": "code",
   "execution_count": 5,
   "metadata": {},
   "outputs": [],
   "source": [
    "def clean_and_get_tokens(doc):\n",
    "    tokens = doc.split()\n",
    "    table = str.maketrans('','',punctuation)  #removes punctuations using \n",
    "    tokens = [w.translate(table) for w in tokens] #dictionary of punctuations\n",
    "    tokens = [word for word in tokens if word.isalpha()]\n",
    "    stop_words = set(stopwords.words('english'))\n",
    "    tokens = [w for w in tokens if not w in stop_words]\n",
    "    tokens = [word for word in tokens if len(word)>2]\n",
    "    return tokens"
   ]
  },
  {
   "cell_type": "code",
   "execution_count": 6,
   "metadata": {},
   "outputs": [],
   "source": [
    "resource.dropna(subset = ['documents'], inplace=True)\n",
    "sentences_train, sentences_test, y_train, y_test = train_test_split(resource['documents'], resource['category'], test_size=0.2, random_state=42)"
   ]
  },
  {
   "cell_type": "code",
   "execution_count": 7,
   "metadata": {},
   "outputs": [
    {
     "data": {
      "text/plain": [
       "(54191, 54191, 13548, 13548)"
      ]
     },
     "execution_count": 7,
     "metadata": {},
     "output_type": "execute_result"
    }
   ],
   "source": [
    "len(sentences_train), len(y_train), len(sentences_test), len(y_test)"
   ]
  },
  {
   "cell_type": "code",
   "execution_count": 8,
   "metadata": {
    "scrolled": false
   },
   "outputs": [],
   "source": [
    "documents = resource['documents']\n",
    "for doc in documents:\n",
    "    tokens = clean_and_get_tokens(doc)\n",
    "    for token in tokens:\n",
    "        if token in vocab:\n",
    "            vocab[token] += 1\n",
    "        else:\n",
    "            vocab[token] = 1\n",
    "for word in vocab:\n",
    "    if vocab[word] > 5:\n",
    "        words.add(word)"
   ]
  },
  {
   "cell_type": "code",
   "execution_count": 9,
   "metadata": {},
   "outputs": [],
   "source": [
    "#train_data,test_data = create_train_test_sets(data,0.8)\n",
    "train_documents = []\n",
    "for doc in sentences_train:\n",
    "    tokens = doc.split()\n",
    "    final_tokens = []\n",
    "    #final_string = ''\n",
    "    for token in tokens:\n",
    "        if token in words:\n",
    "            final_tokens.append(token)\n",
    "    final_string = ' '.join(final_tokens)\n",
    "    train_documents.append(final_string)"
   ]
  },
  {
   "cell_type": "code",
   "execution_count": 10,
   "metadata": {},
   "outputs": [],
   "source": [
    "test_documents = []\n",
    "for doc in sentences_test:\n",
    "    tokens = doc.split()\n",
    "    final_tokens = []\n",
    "    #final_string = ''\n",
    "    for token in tokens:\n",
    "        if token in words:\n",
    "            final_tokens.append(token)\n",
    "    final_string = ' '.join(final_tokens)\n",
    "    test_documents.append(final_string)"
   ]
  },
  {
   "cell_type": "code",
   "execution_count": 11,
   "metadata": {},
   "outputs": [],
   "source": [
    "tokenizer = Tokenizer()\n",
    "tokenizer.fit_on_texts(train_documents)\n",
    "encoded_docs = tokenizer.texts_to_sequences(train_documents)\n",
    "max_length = max(([len(s.split()) for s in train_documents]))\n",
    "labels = y_train#train_data['category']\n",
    "train_labels = labels\n",
    "Xtrain = pad_sequences(encoded_docs, maxlen=max_length, padding='post')\n",
    "ytrain = keras.utils.to_categorical(labels, num_classes=10)"
   ]
  },
  {
   "cell_type": "markdown",
   "metadata": {},
   "source": [
    "from scipy import sparse\n",
    "from imblearn.over_sampling import SMOTE\n",
    "sm = SMOTE(random_state=42)\n",
    "Xtrain, ytrain = sm.fit_sample(sparse.csr_matrix(X_train), y_train.ravel())\n",
    "labels = y_train#train_data['category']\n",
    "train_labels = labels\n",
    "y_train = keras.utils.to_categorical(labels, num_classes=8)"
   ]
  },
  {
   "cell_type": "code",
   "execution_count": 12,
   "metadata": {},
   "outputs": [],
   "source": [
    "encoded_docs = tokenizer.texts_to_sequences(test_documents)\n",
    "labels = y_test#test_data['category']\n",
    "Xtest = pad_sequences(encoded_docs, maxlen=max_length, padding='post')\n",
    "ytest = keras.utils.to_categorical(labels, num_classes=10)"
   ]
  },
  {
   "cell_type": "code",
   "execution_count": 13,
   "metadata": {},
   "outputs": [
    {
     "data": {
      "text/plain": [
       "54191"
      ]
     },
     "execution_count": 13,
     "metadata": {},
     "output_type": "execute_result"
    }
   ],
   "source": [
    "tokenizer.document_count"
   ]
  },
  {
   "cell_type": "code",
   "execution_count": 14,
   "metadata": {
    "scrolled": true
   },
   "outputs": [
    {
     "name": "stdout",
     "output_type": "stream",
     "text": [
      "Model: \"sequential_1\"\n",
      "_________________________________________________________________\n",
      "Layer (type)                 Output Shape              Param #   \n",
      "=================================================================\n",
      "embedding_1 (Embedding)      (None, 6211, 100)         17646300  \n",
      "_________________________________________________________________\n",
      "conv1d_1 (Conv1D)            (None, 6196, 16)          25616     \n",
      "_________________________________________________________________\n",
      "max_pooling1d_1 (MaxPooling1 (None, 3098, 16)          0         \n",
      "_________________________________________________________________\n",
      "flatten_1 (Flatten)          (None, 49568)             0         \n",
      "_________________________________________________________________\n",
      "dropout_1 (Dropout)          (None, 49568)             0         \n",
      "_________________________________________________________________\n",
      "dense_1 (Dense)              (None, 10)                495690    \n",
      "=================================================================\n",
      "Total params: 18,167,606\n",
      "Trainable params: 18,167,606\n",
      "Non-trainable params: 0\n",
      "_________________________________________________________________\n",
      "None\n"
     ]
    }
   ],
   "source": [
    "vocab_size = len(tokenizer.word_index) + 1\n",
    "model = Sequential()\n",
    "model.add(Embedding(vocab_size, 100, input_length = max_length))\n",
    "model.add(Conv1D(filters=16, kernel_size=16, activation='relu'))\n",
    "model.add(MaxPooling1D(pool_size=2))\n",
    "model.add(Flatten())\n",
    "model.add(Dropout(0.2))\n",
    "model.add(Dense(10, activation='softmax'))\n",
    "print(model.summary())"
   ]
  },
  {
   "cell_type": "code",
   "execution_count": 15,
   "metadata": {
    "scrolled": true
   },
   "outputs": [
    {
     "name": "stderr",
     "output_type": "stream",
     "text": [
      "/Users/michaelmelese/opt/anaconda3/lib/python3.7/site-packages/tensorflow/python/framework/indexed_slices.py:434: UserWarning: Converting sparse IndexedSlices to a dense Tensor of unknown shape. This may consume a large amount of memory.\n",
      "  \"Converting sparse IndexedSlices to a dense Tensor of unknown shape. \"\n"
     ]
    },
    {
     "name": "stdout",
     "output_type": "stream",
     "text": [
      "Train on 54191 samples, validate on 13548 samples\n",
      "Epoch 1/1\n",
      " - 1892s - loss: 0.6246 - accuracy: 0.7729 - val_loss: 0.4815 - val_accuracy: 0.8273\n"
     ]
    },
    {
     "data": {
      "text/plain": [
       "<keras.callbacks.callbacks.History at 0x7fdb16c49d90>"
      ]
     },
     "execution_count": 15,
     "metadata": {},
     "output_type": "execute_result"
    }
   ],
   "source": [
    "model.compile(loss='categorical_crossentropy', optimizer='adam', metrics=['accuracy'])\n",
    "# fit network\n",
    "model.fit(Xtrain, ytrain, epochs=1, verbose=2, validation_data = (Xtest,ytest))"
   ]
  },
  {
   "cell_type": "code",
   "execution_count": 16,
   "metadata": {},
   "outputs": [
    {
     "data": {
      "text/plain": [
       "array([[0.10606861, 0.09866916, 0.09595378, 0.1100977 , 0.10384394,\n",
       "        0.09650005, 0.10717987, 0.09282593, 0.09443508, 0.09442582]],\n",
       "      dtype=float32)"
      ]
     },
     "execution_count": 16,
     "metadata": {},
     "output_type": "execute_result"
    }
   ],
   "source": [
    "random_text = [\"I love business and sports\"]\n",
    "encoded_text = tokenizer.texts_to_sequences(random_text)\n",
    "test_text = pad_sequences(encoded_text, maxlen = max_length, padding= 'post')\n",
    "model.predict(test_text)"
   ]
  },
  {
   "cell_type": "code",
   "execution_count": 17,
   "metadata": {},
   "outputs": [],
   "source": [
    "ypred = model.predict(Xtest)\n",
    "pred_labels = []\n",
    "for probs in ypred:\n",
    "    label = np.argmax(probs, axis=-1)\n",
    "    pred_labels.append(int(label))\n",
    "actual_labels = list(labels)"
   ]
  },
  {
   "cell_type": "code",
   "execution_count": 18,
   "metadata": {},
   "outputs": [],
   "source": [
    "from sklearn.metrics import confusion_matrix\n",
    "cm = confusion_matrix(actual_labels, pred_labels)"
   ]
  },
  {
   "cell_type": "code",
   "execution_count": 22,
   "metadata": {},
   "outputs": [
    {
     "name": "stdout",
     "output_type": "stream",
     "text": [
      "Accuracy :  0.8272807794508414\n"
     ]
    }
   ],
   "source": [
    "from sklearn.metrics import accuracy_score\n",
    "print(\"Accuracy : \", accuracy_score(y_test, pred_labels))"
   ]
  },
  {
   "cell_type": "code",
   "execution_count": 19,
   "metadata": {
    "scrolled": true
   },
   "outputs": [
    {
     "name": "stdout",
     "output_type": "stream",
     "text": [
      "[[4143  337  207   18    4  188   15   14]\n",
      " [ 376 2700  112    2    4    0    2   19]\n",
      " [ 401  141 2577    0    1    2   20    5]\n",
      " [  20    1    0  744    0    0    1    0]\n",
      " [  13    2    0    0  614    0    2    0]\n",
      " [ 282    3    3    2    1  144    0    0]\n",
      " [  67    2   39   12    0    2  191    0]\n",
      " [  17    1    0    2    0    0    0   95]]\n"
     ]
    }
   ],
   "source": [
    "print(cm)"
   ]
  },
  {
   "cell_type": "code",
   "execution_count": 20,
   "metadata": {
    "scrolled": true
   },
   "outputs": [
    {
     "data": {
      "image/png": "[encoded data removed]",
      "text/plain": [
       "<Figure size 432x288 with 2 Axes>"
      ]
     },
     "metadata": {
      "needs_background": "light"
     },
     "output_type": "display_data"
    }
   ],
   "source": [
    "import matplotlib.pyplot as plt\n",
    "import itertools\n",
    "cmap = plt.cm.Blues\n",
    "title = \"CNN\"\n",
    "classes = 8\n",
    "normalize = False\n",
    "tick_marks = np.arange(classes)\n",
    "plt.imshow(cm, interpolation='nearest', cmap=cmap)\n",
    "plt.title(title)\n",
    "plt.colorbar()\n",
    "tick_marks = np.arange(10)\n",
    "#plt.xticks(tick_marks, classes, rotation=45)\n",
    "#plt.yticks(tick_marks, classes)\n",
    "\n",
    "fmt = '.2f' if normalize else 'd'\n",
    "thresh = cm.max() / 5.\n",
    "for i, j in itertools.product(range(cm.shape[0]), range(cm.shape[1])):\n",
    "    plt.text(j, i, format(cm[i, j], fmt),\n",
    "             horizontalalignment=\"center\",\n",
    "             color=\"white\" if cm[i, j] > thresh else \"black\")\n",
    "\n",
    "plt.tight_layout()\n",
    "plt.ylabel('True label')\n",
    "plt.xlabel('Predicted label')\n",
    "plt.show()"
   ]
  },
  {
   "cell_type": "markdown",
   "metadata": {},
   "source": [
    "#dependencies\n",
    "\n",
    "import pickle\n",
    "import matplotlib.pyplot as plt\n",
    "from sklearn.feature_extraction.text import TfidfVectorizer\n",
    "from sklearn.manifold import TSNE\n",
    "import pandas as pd\n",
    "import matplotlib.patches as mpatches\n",
    "\n",
    "#import train data\n",
    "train = pickle.load(open(\"train_data\",\"rb\"))\n",
    "\n",
    "train_cat_freq = []\n",
    "\n",
    "category = list(set(train['category'].tolist()))\n",
    "\n",
    "for i in category:\n",
    "    train_cat_freq.append(train['category'].tolist().count(i))\n",
    "\n",
    "#uncomment this section to view frequency distribution of documents\n",
    "##plt.bar(category,train_cat_freq)\n",
    "##plt.show()\n",
    "\n",
    "tfidf = TfidfVectorizer(sublinear_tf=True, min_df=5, norm='l2', encoding='latin-1', ngram_range=(1, 2), stop_words='english')\n",
    "features = tfidf.fit_transform(train.texts).toarray()\n",
    "print(len(features[1]) == len(features[0]))\n",
    "labels = train.category\n",
    "\n",
    "model_tsne = TSNE(n_components=2, verbose = 1, perplexity = 200,\n",
    "                  learning_rate = 30, random_state=0)\n",
    "\n",
    "tsne_result = model_tsne.fit_transform(features)\n",
    "print(tsne_result)\n",
    "columns = ['X','Y','labels','colors']\n",
    "df = pd.DataFrame(columns = columns)\n",
    "df['X'] = tsne_result[:,0]\n",
    "df['Y'] = tsne_result[:,1]\n",
    "df['labels'] = labels\n",
    "\n",
    "colors = [\"g\",\"r\",\"y\",\"b\",'c']\n",
    "for i in range(len(df['labels'])):\n",
    "    df['colors'][i] = colors[df['labels'][i]-1]\n",
    "\n",
    "\n",
    "gpatch = mpatches.Patch(color='g', label='Business')\n",
    "rpatch = mpatches.Patch(color='r', label='Entertainment')\n",
    "ypatch = mpatches.Patch(color='y', label='Politics')\n",
    "bpatch = mpatches.Patch(color='b', label='Sports')\n",
    "cpatch = mpatches.Patch(color='c', label='Technology')\n",
    "\n",
    "plt.legend(handles=[gpatch,rpatch,ypatch,bpatch,cpatch])\n",
    "\n",
    "cols = [i for i in df['colors']]    \n",
    "plt.scatter(df['X'],df['Y'],c= cols)\n",
    "plt.show()"
   ]
  }
 ],
 "metadata": {
  "kernelspec": {
   "display_name": "Python 3",
   "language": "python",
   "name": "python3"
  },
  "language_info": {
   "codemirror_mode": {
    "name": "ipython",
    "version": 3
   },
   "file_extension": ".py",
   "mimetype": "text/x-python",
   "name": "python",
   "nbconvert_exporter": "python",
   "pygments_lexer": "ipython3",
   "version": "3.7.6"
  }
 },
 "nbformat": 4,
 "nbformat_minor": 2
}
