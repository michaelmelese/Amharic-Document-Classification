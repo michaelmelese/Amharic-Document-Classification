{
 "cells": [
  {
   "cell_type": "code",
   "execution_count": 1,
   "metadata": {},
   "outputs": [],
   "source": [
    "import os\n",
    "import pandas as pd\n",
    "import re\n",
    "import numpy as np\n",
    "from nltk.corpus import stopwords \n",
    "from nltk.tokenize import word_tokenize "
   ]
  },
  {
   "cell_type": "code",
   "execution_count": null,
   "metadata": {},
   "outputs": [],
   "source": [
    "folders=['social', 'politics', 'business', 'religious', 'sport', 'health', 'science-tech', 'law']\n",
    "paths = []\n",
    "for category_class in folders:\n",
    "    paths.append(os.getcwd()+'/../corpus/word/'+category_class)\n",
    "documents = []\n",
    "labels = []\n",
    "labels_to_category = []\n",
    "source=[]\n",
    "for Category in range(len(paths)):\n",
    "    for one_file in os.listdir(paths[Category]):        \n",
    "        with open(paths[Category]+\"/\"+one_file,'r') as file:\n",
    "            tmp = str(file.read())\n",
    "            tmp = tmp.replace(\"\\n\",\" \").replace('\\r','')\n",
    "            documents.append(tmp)\n",
    "            file.close()\n",
    "        source.append(\" \".join(one_file.split(\"-\")[0].split(\"_\")))\n",
    "        labels.append(folders[Category])\n",
    "        labels_to_category.append(Category)\n",
    "data = pd.DataFrame({'documents':documents,'category':labels_to_category, 'labels':labels, 'source': source})#\n",
    "data.to_csv('adc-word.csv')\n",
    "print(len(documents), len(labels_to_category))#, len(labels_to_category))"
   ]
  },
  {
   "cell_type": "code",
   "execution_count": 18,
   "metadata": {},
   "outputs": [],
   "source": [
    "resource = pd.read_csv('adc-word.csv')"
   ]
  },
  {
   "cell_type": "code",
   "execution_count": 32,
   "metadata": {},
   "outputs": [
    {
     "name": "stdout",
     "output_type": "stream",
     "text": [
      "አምስት ነባር መንደሮችን ለማፍረስ ከተነሺዎች ጋር ውይይት ሊጀመር ነው ። የአዲስ አበባ ከተማ አስተዳደር 78 ሄክታር መሬት ላይ ያረፉ አምስት ነባር መንደሮችን ለማፍረስ ከተነሺዎች ጋር ውይይት ለመጀመር እየተዘጋጀ ነው ። በአዲስ አበባ ከተማ አስተዳደር መሬት ልማትና ማኔጅመንት ቢሮ ስር የሚገኘው የመሬት ልማትና ከተማ ማደስ ኤጀንሲ ቀደም ብለው ከተካሄዱ የመልሶ ማልማት ፕሮጀክቶች በተሻለ የተነሺዎችን መብት እንደሚያስከብር አስታውቋል ። የመሬት ልማትና ከተማ ማደስ ኤጀንሲ ዋና ስራ አስኪያጅ አቶ ሚሊዮን ግርማ ለሪፖርተር እንደገለጹት በአሁኑ ወቅት ኤጀንሲው ሙሉ ዝግጅቱን እያጠናቀቀ በመሆኑ በቅርቡ ከተነሺዎች ጋር ውይይት ማድረግ ይጀምራል ። በ2010 አ.ም ሁለተኛው ግማሽ አመት ይፈርሳሉ የተባሉት በአራዳ ክፍለ ከተማ አሜሪካ ግቢ ቁጥር ሁለትና ገዳም ሰፈር በየካ ክፍለ ከተማ ከሾላ እስከ መገናኛ ድረስ በልደታ ክፍለ ከተማ ጌጃ ሰፈር በቂርቆስ ክፍለ ከተማ ካዛንቺስ ቁጥር ሶስት ቶታል ነዳጅ ማደያ አካባቢ ያሉ መንደሮች ናቸው ። አቶ ሚሊዮን እንደሚሉት በልማት ምክንያት ከቦታቸው የሚነሱ ተነሺዎች የካሳ መጠን ከመቼውም ጊዜ በተሻለ ተመጣጣኝ እንዲሆን ተደርጓል ። ከዚህ በተጨማሪም ተነሺዎች አቅሙ ካላቸውና ቦታቸው በማስተር ፕላኑ ለሌላ አገልግሎት የማይፈልግ ከሆነ እዚያው በአካባቢያቸው መልሰው እንዲያለሙ እድል ይሰጣል ብለዋል ። ኤጀንሲው እንደ አዲስ በቅርቡ ከሚጀምረው የመልሶ ማልማት ፕሮጀክት በተጨማሪ ቀደም ብለው የተጀመሩ ነገር ግን ነዋሪዎች በተደጋጋሚ ቅሬታ በማንሳታቸው ለጊዜው እንዲቋረጡ የተወሰነባቸውን ቦታዎች ባለፉት ስድስት ወራት በድጋሚ ከሰው ንክኪ ነጻ ሲያደርግ ቆይቷል ። እነዚህ ቦታዎች የሚገኙት በአራዳ ክፍለ ከተማ ባሻ ወልዴ ቁጥር ሁለት አሮጌው ቄራ ቁጥር አንድና ሁለት ፓርላማ አካባቢና ደጃች ውቤ በቂርቆስ ክፍለ ከተማ አፍሪካ ህብረት ቁጥር ሁለት ካዛንቺስ ቁጥር ሁለትና ፈለገ ዮርዳኖስ በልደታ ክፍለ ከተማ ዋቢ ሸበሌ ሆቴል ዙርያ ሰንጋ ተራ ቁጥር ሶስት በአዲስ ከተማ ክፍለ ከተማ አሜሪካ ግቢ ቁጥር አንድ ናቸው ። በአጠቃላይ የእነዚህ ቦታዎች ስፋት 214 ሄክታር ሲሆን ባለፉት ስድስት ወራት 186 ሄክታር ላይ ካረፉ 12,085 ቤቶች ውስጥ 11,673 የሚሆኑት መነሳታቸውን በኤጀንሲው ሪፖርት ቀርቧል ። ነገር ግን 379 ቤቶች በይገባኛልና በፍርድ ቤት እግድ ምክንያት በተያዘላቸው ጊዜ ውስጥ ሊነሳ እንዳልቻሉ ተገልጿል ። አቶ ሚሊዮን እንደገለጹት በይገባኛልና በፍርድ ቤት እግድ ምክንያት ሊነሱ ያልቻሉ ቤቶች መልሶ ማልማቱን በተያዘለት ጊዜ ገደብ ለማካሄድ እንቅፋት ሆኗል ። ስለሆነም የፍትህ ሂደቱን የተፋጠነ ለማድረግ በአዲስ አበባ ከተማ አስተዳደር ፍትህ ቢሮ አማካይነት ግብረ ሃይል ተቋቁሞ ስራዎች ተጀምረዋል ብለዋል ።   0 social\n",
      "የኔ ትውልድ ኮንሰርት ዛሬ ይቀርባል ። ከቅርብ ጊዜ ወዲህ ተወዳጅነትን እያገኘ የመጣው ድምጻዊና ዲጄ ሮፍናን የኔ ትውልድ የተሰኘ የሙዚቃ ኮንሰርት ዛሬ ከምሽቱ 2 00 ጀምሮ ቦሌ በሚገኘው ቃና አዳራሽ ይካሄዳል ። ሀሴት አኩስቲክ ባንድ ከሁለት ሰአት ጀምሮ ታዳሚውን እያዝናና ከቆየ በኋላ ዲጄ ሮፍናን ለ90 ደቂቃ ያህል መድረክ ላይ እንደሚያቀነቅን የኮንሰርቱ አዘጋጅ የብሉ ሚዲያ ዋና ስራ አስኪያጅ አቶ እስክንድር ፋሲል ተናግረዋል ። ከ2 ሺህ እስከ 2 ሺህ 500 ሰው እንደሚገኝበት የተነገረለት የኔ ትውልድ ኮንሰርት ላይ ለመታደም ከእለቱ ቀደም ብሎ ትኬት ለሚገዛ 250 ብር በእለቱ በር ላይ ለሚገዛ 350 ብር ተተምኖለታል ። ኮንሰርቱ እስከ ምሽቱ 5 00 እንደሚዘልቅም ለማወቅ ተችሏል ።     0 social\n",
      "አምስት ነባር መንደሮችን ለማፍረስ ከተነሺዎች ጋር ውይይት ሊጀመር ነው ። የአዲስ አበባ ከተማ አስተዳደር 78 ሄክታር መሬት ላይ ያረፉ አምስት ነባር መንደሮችን ለማፍረስ ከተነሺዎች ጋር ውይይት ለመጀመር እየተዘጋጀ ነው ። በአዲስ አበባ ከተማ አስተዳደር መሬት ልማትና ማኔጅመንት ቢሮ ስር የሚገኘው የመሬት ልማትና ከተማ ማደስ ኤጀንሲ ቀደም ብለው ከተካሄዱ የመልሶ ማልማት ፕሮጀክቶች በተሻለ የተነሺዎችን መብት እንደሚያስከብር አስታውቋል ። የመሬት ልማትና ከተማ ማደስ ኤጀንሲ ዋና ስራ አስኪያጅ አቶ ሚሊዮን ግርማ ለሪፖርተር እንደገለጹት በአሁኑ ወቅት ኤጀንሲው ሙሉ ዝግጅቱን እያጠናቀቀ በመሆኑ በቅርቡ ከተነሺዎች ጋር ውይይት ማድረግ ይጀምራል ። በ2010 አ.ም ሁለተኛው ግማሽ አመት ይፈርሳሉ የተባሉት በአራዳ ክፍለ ከተማ አሜሪካ ግቢ ቁጥር ሁለትና ገዳም ሰፈር በየካ ክፍለ ከተማ ከሾላ እስከ መገናኛ ድረስ በልደታ ክፍለ ከተማ ጌጃ ሰፈር በቂርቆስ ክፍለ ከተማ ካዛንቺስ ቁጥር ሶስት ቶታል ነዳጅ ማደያ አካባቢ ያሉ መንደሮች ናቸው ። አቶ ሚሊዮን እንደሚሉት በልማት ምክንያት ከቦታቸው የሚነሱ ተነሺዎች የካሳ መጠን ከመቼውም ጊዜ በተሻለ ተመጣጣኝ እንዲሆን ተደርጓል ። ከዚህ በተጨማሪም ተነሺዎች አቅሙ ካላቸውና ቦታቸው በማስተር ፕላኑ ለሌላ አገልግሎት የማይፈልግ ከሆነ እዚያው በአካባቢያቸው መልሰው እንዲያለሙ እድል ይሰጣል ብለዋል ። ኤጀንሲው እንደ አዲስ በቅርቡ ከሚጀምረው የመልሶ ማልማት ፕሮጀክት በተጨማሪ ቀደም ብለው የተጀመሩ ነገር ግን ነዋሪዎች በተደጋጋሚ ቅሬታ በማንሳታቸው ለጊዜው እንዲቋረጡ የተወሰነባቸውን ቦታዎች ባለፉት ስድስት ወራት በድጋሚ ከሰው ንክኪ ነጻ ሲያደርግ ቆይቷል ። እነዚህ ቦታዎች የሚገኙት በአራዳ ክፍለ ከተማ ባሻ ወልዴ ቁጥር ሁለት አሮጌው ቄራ ቁጥር አንድና ሁለት ፓርላማ አካባቢና ደጃች ውቤ በቂርቆስ ክፍለ ከተማ አፍሪካ ህብረት ቁጥር ሁለት ካዛንቺስ ቁጥር ሁለትና ፈለገ ዮርዳኖስ በልደታ ክፍለ ከተማ ዋቢ ሸበሌ ሆቴል ዙርያ ሰንጋ ተራ ቁጥር ሶስት በአዲስ ከተማ ክፍለ ከተማ አሜሪካ ግቢ ቁጥር አንድ ናቸው ። በአጠቃላይ የእነዚህ ቦታዎች ስፋት 214 ሄክታር ሲሆን ባለፉት ስድስት ወራት 186 ሄክታር ላይ ካረፉ 12,085 ቤቶች ውስጥ 11,673 የሚሆኑት መነሳታቸውን በኤጀንሲው ሪፖርት ቀርቧል ። ነገር ግን 379 ቤቶች በይገባኛልና በፍርድ ቤት እግድ ምክንያት በተያዘላቸው ጊዜ ውስጥ ሊነሳ እንዳልቻሉ ተገልጿል ። አቶ ሚሊዮን እንደገለጹት በይገባኛልና በፍርድ ቤት እግድ ምክንያት ሊነሱ ያልቻሉ ቤቶች መልሶ ማልማቱን በተያዘለት ጊዜ ገደብ ለማካሄድ እንቅፋት ሆኗል ። ስለሆነም የፍትህ ሂደቱን የተፋጠነ ለማድረግ በአዲስ አበባ ከተማ አስተዳደር ፍትህ ቢሮ አማካይነት ግብረ ሃይል ተቋቁሞ ስራዎች ተጀምረዋል ብለዋል ።   0 social\n",
      "የኔ ትውልድ ኮንሰርት ዛሬ ይቀርባል ። ከቅርብ ጊዜ ወዲህ ተወዳጅነትን እያገኘ የመጣው ድምጻዊና ዲጄ ሮፍናን የኔ ትውልድ የተሰኘ የሙዚቃ ኮንሰርት ዛሬ ከምሽቱ 2 00 ጀምሮ ቦሌ በሚገኘው ቃና አዳራሽ ይካሄዳል ። ሀሴት አኩስቲክ ባንድ ከሁለት ሰአት ጀምሮ ታዳሚውን እያዝናና ከቆየ በኋላ ዲጄ ሮፍናን ለ90 ደቂቃ ያህል መድረክ ላይ እንደሚያቀነቅን የኮንሰርቱ አዘጋጅ የብሉ ሚዲያ ዋና ስራ አስኪያጅ አቶ እስክንድር ፋሲል ተናግረዋል ። ከ2 ሺህ እስከ 2 ሺህ 500 ሰው እንደሚገኝበት የተነገረለት የኔ ትውልድ ኮንሰርት ላይ ለመታደም ከእለቱ ቀደም ብሎ ትኬት ለሚገዛ 250 ብር በእለቱ በር ላይ ለሚገዛ 350 ብር ተተምኖለታል ። ኮንሰርቱ እስከ ምሽቱ 5 00 እንደሚዘልቅም ለማወቅ ተችሏል ።     0 social\n",
      "አምስት ነባር መንደሮችን ለማፍረስ ከተነሺዎች ጋር ውይይት ሊጀመር ነው ። የአዲስ አበባ ከተማ አስተዳደር 78 ሄክታር መሬት ላይ ያረፉ አምስት ነባር መንደሮችን ለማፍረስ ከተነሺዎች ጋር ውይይት ለመጀመር እየተዘጋጀ ነው ። በአዲስ አበባ ከተማ አስተዳደር መሬት ልማትና ማኔጅመንት ቢሮ ስር የሚገኘው የመሬት ልማትና ከተማ ማደስ ኤጀንሲ ቀደም ብለው ከተካሄዱ የመልሶ ማልማት ፕሮጀክቶች በተሻለ የተነሺዎችን መብት እንደሚያስከብር አስታውቋል ። የመሬት ልማትና ከተማ ማደስ ኤጀንሲ ዋና ስራ አስኪያጅ አቶ ሚሊዮን ግርማ ለሪፖርተር እንደገለጹት በአሁኑ ወቅት ኤጀንሲው ሙሉ ዝግጅቱን እያጠናቀቀ በመሆኑ በቅርቡ ከተነሺዎች ጋር ውይይት ማድረግ ይጀምራል ። በ2010 አ.ም ሁለተኛው ግማሽ አመት ይፈርሳሉ የተባሉት በአራዳ ክፍለ ከተማ አሜሪካ ግቢ ቁጥር ሁለትና ገዳም ሰፈር በየካ ክፍለ ከተማ ከሾላ እስከ መገናኛ ድረስ በልደታ ክፍለ ከተማ ጌጃ ሰፈር በቂርቆስ ክፍለ ከተማ ካዛንቺስ ቁጥር ሶስት ቶታል ነዳጅ ማደያ አካባቢ ያሉ መንደሮች ናቸው ። አቶ ሚሊዮን እንደሚሉት በልማት ምክንያት ከቦታቸው የሚነሱ ተነሺዎች የካሳ መጠን ከመቼውም ጊዜ በተሻለ ተመጣጣኝ እንዲሆን ተደርጓል ። ከዚህ በተጨማሪም ተነሺዎች አቅሙ ካላቸውና ቦታቸው በማስተር ፕላኑ ለሌላ አገልግሎት የማይፈልግ ከሆነ እዚያው በአካባቢያቸው መልሰው እንዲያለሙ እድል ይሰጣል ብለዋል ። ኤጀንሲው እንደ አዲስ በቅርቡ ከሚጀምረው የመልሶ ማልማት ፕሮጀክት በተጨማሪ ቀደም ብለው የተጀመሩ ነገር ግን ነዋሪዎች በተደጋጋሚ ቅሬታ በማንሳታቸው ለጊዜው እንዲቋረጡ የተወሰነባቸውን ቦታዎች ባለፉት ስድስት ወራት በድጋሚ ከሰው ንክኪ ነጻ ሲያደርግ ቆይቷል ። እነዚህ ቦታዎች የሚገኙት በአራዳ ክፍለ ከተማ ባሻ ወልዴ ቁጥር ሁለት አሮጌው ቄራ ቁጥር አንድና ሁለት ፓርላማ አካባቢና ደጃች ውቤ በቂርቆስ ክፍለ ከተማ አፍሪካ ህብረት ቁጥር ሁለት ካዛንቺስ ቁጥር ሁለትና ፈለገ ዮርዳኖስ በልደታ ክፍለ ከተማ ዋቢ ሸበሌ ሆቴል ዙርያ ሰንጋ ተራ ቁጥር ሶስት በአዲስ ከተማ ክፍለ ከተማ አሜሪካ ግቢ ቁጥር አንድ ናቸው ። በአጠቃላይ የእነዚህ ቦታዎች ስፋት 214 ሄክታር ሲሆን ባለፉት ስድስት ወራት 186 ሄክታር ላይ ካረፉ 12,085 ቤቶች ውስጥ 11,673 የሚሆኑት መነሳታቸውን በኤጀንሲው ሪፖርት ቀርቧል ። ነገር ግን 379 ቤቶች በይገባኛልና በፍርድ ቤት እግድ ምክንያት በተያዘላቸው ጊዜ ውስጥ ሊነሳ እንዳልቻሉ ተገልጿል ። አቶ ሚሊዮን እንደገለጹት በይገባኛልና በፍርድ ቤት እግድ ምክንያት ሊነሱ ያልቻሉ ቤቶች መልሶ ማልማቱን በተያዘለት ጊዜ ገደብ ለማካሄድ እንቅፋት ሆኗል ። ስለሆነም የፍትህ ሂደቱን የተፋጠነ ለማድረግ በአዲስ አበባ ከተማ አስተዳደር ፍትህ ቢሮ አማካይነት ግብረ ሃይል ተቋቁሞ ስራዎች ተጀምረዋል ብለዋል ።   0 social\n",
      "የኔ ትውልድ ኮንሰርት ዛሬ ይቀርባል ። ከቅርብ ጊዜ ወዲህ ተወዳጅነትን እያገኘ የመጣው ድምጻዊና ዲጄ ሮፍናን የኔ ትውልድ የተሰኘ የሙዚቃ ኮንሰርት ዛሬ ከምሽቱ 2 00 ጀምሮ ቦሌ በሚገኘው ቃና አዳራሽ ይካሄዳል ። ሀሴት አኩስቲክ ባንድ ከሁለት ሰአት ጀምሮ ታዳሚውን እያዝናና ከቆየ በኋላ ዲጄ ሮፍናን ለ90 ደቂቃ ያህል መድረክ ላይ እንደሚያቀነቅን የኮንሰርቱ አዘጋጅ የብሉ ሚዲያ ዋና ስራ አስኪያጅ አቶ እስክንድር ፋሲል ተናግረዋል ። ከ2 ሺህ እስከ 2 ሺህ 500 ሰው እንደሚገኝበት የተነገረለት የኔ ትውልድ ኮንሰርት ላይ ለመታደም ከእለቱ ቀደም ብሎ ትኬት ለሚገዛ 250 ብር በእለቱ በር ላይ ለሚገዛ 350 ብር ተተምኖለታል ። ኮንሰርቱ እስከ ምሽቱ 5 00 እንደሚዘልቅም ለማወቅ ተችሏል ።     0 social\n",
      "አምስት ነባር መንደሮችን ለማፍረስ ከተነሺዎች ጋር ውይይት ሊጀመር ነው ። የአዲስ አበባ ከተማ አስተዳደር 78 ሄክታር መሬት ላይ ያረፉ አምስት ነባር መንደሮችን ለማፍረስ ከተነሺዎች ጋር ውይይት ለመጀመር እየተዘጋጀ ነው ። በአዲስ አበባ ከተማ አስተዳደር መሬት ልማትና ማኔጅመንት ቢሮ ስር የሚገኘው የመሬት ልማትና ከተማ ማደስ ኤጀንሲ ቀደም ብለው ከተካሄዱ የመልሶ ማልማት ፕሮጀክቶች በተሻለ የተነሺዎችን መብት እንደሚያስከብር አስታውቋል ። የመሬት ልማትና ከተማ ማደስ ኤጀንሲ ዋና ስራ አስኪያጅ አቶ ሚሊዮን ግርማ ለሪፖርተር እንደገለጹት በአሁኑ ወቅት ኤጀንሲው ሙሉ ዝግጅቱን እያጠናቀቀ በመሆኑ በቅርቡ ከተነሺዎች ጋር ውይይት ማድረግ ይጀምራል ። በ2010 አ.ም ሁለተኛው ግማሽ አመት ይፈርሳሉ የተባሉት በአራዳ ክፍለ ከተማ አሜሪካ ግቢ ቁጥር ሁለትና ገዳም ሰፈር በየካ ክፍለ ከተማ ከሾላ እስከ መገናኛ ድረስ በልደታ ክፍለ ከተማ ጌጃ ሰፈር በቂርቆስ ክፍለ ከተማ ካዛንቺስ ቁጥር ሶስት ቶታል ነዳጅ ማደያ አካባቢ ያሉ መንደሮች ናቸው ። አቶ ሚሊዮን እንደሚሉት በልማት ምክንያት ከቦታቸው የሚነሱ ተነሺዎች የካሳ መጠን ከመቼውም ጊዜ በተሻለ ተመጣጣኝ እንዲሆን ተደርጓል ። ከዚህ በተጨማሪም ተነሺዎች አቅሙ ካላቸውና ቦታቸው በማስተር ፕላኑ ለሌላ አገልግሎት የማይፈልግ ከሆነ እዚያው በአካባቢያቸው መልሰው እንዲያለሙ እድል ይሰጣል ብለዋል ። ኤጀንሲው እንደ አዲስ በቅርቡ ከሚጀምረው የመልሶ ማልማት ፕሮጀክት በተጨማሪ ቀደም ብለው የተጀመሩ ነገር ግን ነዋሪዎች በተደጋጋሚ ቅሬታ በማንሳታቸው ለጊዜው እንዲቋረጡ የተወሰነባቸውን ቦታዎች ባለፉት ስድስት ወራት በድጋሚ ከሰው ንክኪ ነጻ ሲያደርግ ቆይቷል ። እነዚህ ቦታዎች የሚገኙት በአራዳ ክፍለ ከተማ ባሻ ወልዴ ቁጥር ሁለት አሮጌው ቄራ ቁጥር አንድና ሁለት ፓርላማ አካባቢና ደጃች ውቤ በቂርቆስ ክፍለ ከተማ አፍሪካ ህብረት ቁጥር ሁለት ካዛንቺስ ቁጥር ሁለትና ፈለገ ዮርዳኖስ በልደታ ክፍለ ከተማ ዋቢ ሸበሌ ሆቴል ዙርያ ሰንጋ ተራ ቁጥር ሶስት በአዲስ ከተማ ክፍለ ከተማ አሜሪካ ግቢ ቁጥር አንድ ናቸው ። በአጠቃላይ የእነዚህ ቦታዎች ስፋት 214 ሄክታር ሲሆን ባለፉት ስድስት ወራት 186 ሄክታር ላይ ካረፉ 12,085 ቤቶች ውስጥ 11,673 የሚሆኑት መነሳታቸውን በኤጀንሲው ሪፖርት ቀርቧል ። ነገር ግን 379 ቤቶች በይገባኛልና በፍርድ ቤት እግድ ምክንያት በተያዘላቸው ጊዜ ውስጥ ሊነሳ እንዳልቻሉ ተገልጿል ። አቶ ሚሊዮን እንደገለጹት በይገባኛልና በፍርድ ቤት እግድ ምክንያት ሊነሱ ያልቻሉ ቤቶች መልሶ ማልማቱን በተያዘለት ጊዜ ገደብ ለማካሄድ እንቅፋት ሆኗል ። ስለሆነም የፍትህ ሂደቱን የተፋጠነ ለማድረግ በአዲስ አበባ ከተማ አስተዳደር ፍትህ ቢሮ አማካይነት ግብረ ሃይል ተቋቁሞ ስራዎች ተጀምረዋል ብለዋል ።   0 social\n",
      "የኔ ትውልድ ኮንሰርት ዛሬ ይቀርባል ። ከቅርብ ጊዜ ወዲህ ተወዳጅነትን እያገኘ የመጣው ድምጻዊና ዲጄ ሮፍናን የኔ ትውልድ የተሰኘ የሙዚቃ ኮንሰርት ዛሬ ከምሽቱ 2 00 ጀምሮ ቦሌ በሚገኘው ቃና አዳራሽ ይካሄዳል ። ሀሴት አኩስቲክ ባንድ ከሁለት ሰአት ጀምሮ ታዳሚውን እያዝናና ከቆየ በኋላ ዲጄ ሮፍናን ለ90 ደቂቃ ያህል መድረክ ላይ እንደሚያቀነቅን የኮንሰርቱ አዘጋጅ የብሉ ሚዲያ ዋና ስራ አስኪያጅ አቶ እስክንድር ፋሲል ተናግረዋል ። ከ2 ሺህ እስከ 2 ሺህ 500 ሰው እንደሚገኝበት የተነገረለት የኔ ትውልድ ኮንሰርት ላይ ለመታደም ከእለቱ ቀደም ብሎ ትኬት ለሚገዛ 250 ብር በእለቱ በር ላይ ለሚገዛ 350 ብር ተተምኖለታል ። ኮንሰርቱ እስከ ምሽቱ 5 00 እንደሚዘልቅም ለማወቅ ተችሏል ።     0 social\n",
      "አምስት ነባር መንደሮችን ለማፍረስ ከተነሺዎች ጋር ውይይት ሊጀመር ነው ። የአዲስ አበባ ከተማ አስተዳደር 78 ሄክታር መሬት ላይ ያረፉ አምስት ነባር መንደሮችን ለማፍረስ ከተነሺዎች ጋር ውይይት ለመጀመር እየተዘጋጀ ነው ። በአዲስ አበባ ከተማ አስተዳደር መሬት ልማትና ማኔጅመንት ቢሮ ስር የሚገኘው የመሬት ልማትና ከተማ ማደስ ኤጀንሲ ቀደም ብለው ከተካሄዱ የመልሶ ማልማት ፕሮጀክቶች በተሻለ የተነሺዎችን መብት እንደሚያስከብር አስታውቋል ። የመሬት ልማትና ከተማ ማደስ ኤጀንሲ ዋና ስራ አስኪያጅ አቶ ሚሊዮን ግርማ ለሪፖርተር እንደገለጹት በአሁኑ ወቅት ኤጀንሲው ሙሉ ዝግጅቱን እያጠናቀቀ በመሆኑ በቅርቡ ከተነሺዎች ጋር ውይይት ማድረግ ይጀምራል ። በ2010 አ.ም ሁለተኛው ግማሽ አመት ይፈርሳሉ የተባሉት በአራዳ ክፍለ ከተማ አሜሪካ ግቢ ቁጥር ሁለትና ገዳም ሰፈር በየካ ክፍለ ከተማ ከሾላ እስከ መገናኛ ድረስ በልደታ ክፍለ ከተማ ጌጃ ሰፈር በቂርቆስ ክፍለ ከተማ ካዛንቺስ ቁጥር ሶስት ቶታል ነዳጅ ማደያ አካባቢ ያሉ መንደሮች ናቸው ። አቶ ሚሊዮን እንደሚሉት በልማት ምክንያት ከቦታቸው የሚነሱ ተነሺዎች የካሳ መጠን ከመቼውም ጊዜ በተሻለ ተመጣጣኝ እንዲሆን ተደርጓል ። ከዚህ በተጨማሪም ተነሺዎች አቅሙ ካላቸውና ቦታቸው በማስተር ፕላኑ ለሌላ አገልግሎት የማይፈልግ ከሆነ እዚያው በአካባቢያቸው መልሰው እንዲያለሙ እድል ይሰጣል ብለዋል ። ኤጀንሲው እንደ አዲስ በቅርቡ ከሚጀምረው የመልሶ ማልማት ፕሮጀክት በተጨማሪ ቀደም ብለው የተጀመሩ ነገር ግን ነዋሪዎች በተደጋጋሚ ቅሬታ በማንሳታቸው ለጊዜው እንዲቋረጡ የተወሰነባቸውን ቦታዎች ባለፉት ስድስት ወራት በድጋሚ ከሰው ንክኪ ነጻ ሲያደርግ ቆይቷል ። እነዚህ ቦታዎች የሚገኙት በአራዳ ክፍለ ከተማ ባሻ ወልዴ ቁጥር ሁለት አሮጌው ቄራ ቁጥር አንድና ሁለት ፓርላማ አካባቢና ደጃች ውቤ በቂርቆስ ክፍለ ከተማ አፍሪካ ህብረት ቁጥር ሁለት ካዛንቺስ ቁጥር ሁለትና ፈለገ ዮርዳኖስ በልደታ ክፍለ ከተማ ዋቢ ሸበሌ ሆቴል ዙርያ ሰንጋ ተራ ቁጥር ሶስት በአዲስ ከተማ ክፍለ ከተማ አሜሪካ ግቢ ቁጥር አንድ ናቸው ። በአጠቃላይ የእነዚህ ቦታዎች ስፋት 214 ሄክታር ሲሆን ባለፉት ስድስት ወራት 186 ሄክታር ላይ ካረፉ 12,085 ቤቶች ውስጥ 11,673 የሚሆኑት መነሳታቸውን በኤጀንሲው ሪፖርት ቀርቧል ። ነገር ግን 379 ቤቶች በይገባኛልና በፍርድ ቤት እግድ ምክንያት በተያዘላቸው ጊዜ ውስጥ ሊነሳ እንዳልቻሉ ተገልጿል ። አቶ ሚሊዮን እንደገለጹት በይገባኛልና በፍርድ ቤት እግድ ምክንያት ሊነሱ ያልቻሉ ቤቶች መልሶ ማልማቱን በተያዘለት ጊዜ ገደብ ለማካሄድ እንቅፋት ሆኗል ። ስለሆነም የፍትህ ሂደቱን የተፋጠነ ለማድረግ በአዲስ አበባ ከተማ አስተዳደር ፍትህ ቢሮ አማካይነት ግብረ ሃይል ተቋቁሞ ስራዎች ተጀምረዋል ብለዋል ።   0 social\n",
      "የኔ ትውልድ ኮንሰርት ዛሬ ይቀርባል ። ከቅርብ ጊዜ ወዲህ ተወዳጅነትን እያገኘ የመጣው ድምጻዊና ዲጄ ሮፍናን የኔ ትውልድ የተሰኘ የሙዚቃ ኮንሰርት ዛሬ ከምሽቱ 2 00 ጀምሮ ቦሌ በሚገኘው ቃና አዳራሽ ይካሄዳል ። ሀሴት አኩስቲክ ባንድ ከሁለት ሰአት ጀምሮ ታዳሚውን እያዝናና ከቆየ በኋላ ዲጄ ሮፍናን ለ90 ደቂቃ ያህል መድረክ ላይ እንደሚያቀነቅን የኮንሰርቱ አዘጋጅ የብሉ ሚዲያ ዋና ስራ አስኪያጅ አቶ እስክንድር ፋሲል ተናግረዋል ። ከ2 ሺህ እስከ 2 ሺህ 500 ሰው እንደሚገኝበት የተነገረለት የኔ ትውልድ ኮንሰርት ላይ ለመታደም ከእለቱ ቀደም ብሎ ትኬት ለሚገዛ 250 ብር በእለቱ በር ላይ ለሚገዛ 350 ብር ተተምኖለታል ። ኮንሰርቱ እስከ ምሽቱ 5 00 እንደሚዘልቅም ለማወቅ ተችሏል ።     0 social\n"
     ]
    }
   ],
   "source": [
    "documents = []\n",
    "labels = []\n",
    "labels_to_category = []\n",
    "source=[]\n",
    "for cat in range(0,5):\n",
    "    #res=resource[resource[\"category\"]==cat][0:10]\n",
    "    for i in range(len(resource[resource[\"category\"]==cat][0:2])) :\n",
    "        print(resource.loc[i, \"documents\"], resource.loc[i, \"category\"],  resource.loc[i, \"labels\"])"
   ]
  },
  {
   "cell_type": "code",
   "execution_count": 36,
   "metadata": {},
   "outputs": [
    {
     "name": "stdout",
     "output_type": "stream",
     "text": [
      "   Unnamed: 0                                          documents  category  \\\n",
      "0           0  አምስት ነባር መንደሮችን ለማፍረስ ከተነሺዎች ጋር ውይይት ሊጀመር ነው ።...         0   \n",
      "\n",
      "   labels    source  \n",
      "0  social  Reporter  \n",
      "       Unnamed: 0                                          documents  \\\n",
      "24890       24890  ቅይጥ ትይዩ የምርጫ ስርአት የአገሪቱን ፖለቲካዊ ችግሮች ይፈታል ? በ20...   \n",
      "\n",
      "       category    labels    source  \n",
      "24890         1  politics  Reporter  \n",
      "       Unnamed: 0                                          documents  \\\n",
      "40762       40762  የከተማውን የትራንስፖርት ችግር ለመቀነስ 3 ሺህ አዉቶብሶችን ለማቅረብ እ...   \n",
      "\n",
      "       category    labels source  \n",
      "40762         2  business    ENA  \n",
      "       Unnamed: 0                                          documents  \\\n",
      "56309       56309  በቁጣው በትር መከራ ያየ ሰው እኔ ነኝ ። ብርሃን ወደ ሌለበት ወደ ጨለማ...   \n",
      "\n",
      "       category     labels source  \n",
      "56309         3  religious   መጽሀፍ  \n",
      "       Unnamed: 0                                          documents  \\\n",
      "60258       60258  የስፖርት ሚዲያው በጸረ አበረታች ቅመሞች ላይ እንዲሰራ ተጠየቀ ። በስፖር...   \n",
      "\n",
      "       category labels    source  \n",
      "60258         4  sport  Reporter  \n",
      "       Unnamed: 0                                          documents  \\\n",
      "63585       63585  በኢትዮጵያ በኮቪድ 19 የተያዙ ሰዎች ቁጥር 116 ደረሰ ። ሚያዚያ 14/...   \n",
      "\n",
      "       category  labels source  \n",
      "63585         5  health    ENA  \n",
      "       Unnamed: 0                                          documents  \\\n",
      "65617       65617  ለምርምር ማእከል ግንባታ የለቀቅነው መሬት ለአመታት ያለስራ በመቀመጡ ቅሬ...   \n",
      "\n",
      "       category        labels source  \n",
      "65617         6  science-tech    ENA  \n",
      "       Unnamed: 0                                          documents  \\\n",
      "67145       67145  አገራዊ ተቋሞቻችን ችግር ተጋፋጭ ናቸውን ? ሽግግርንስ በብቃት መምራትስ ...   \n",
      "\n",
      "       category labels    source  \n",
      "67145         7    law  Reporter  \n"
     ]
    }
   ],
   "source": [
    "res=pd.DataFrame()\n",
    "resource = pd.read_csv('adc-word.csv')\n",
    "for cat in range(0,8):    \n",
    "    res=resource[resource[\"category\"]==cat][0:1]\n",
    "    print(res)\n",
    "    documents.append(res[\"documents\"])\n",
    "        #labels.append(res[\"category\"])\n",
    "        #labels_to_category.append(res[\"labels\"])\n",
    "#print(len(documents), len(labels), len(labels_to_category))\n",
    "#data = pd.DataFrame({'documents':documents,'category':labels_to_category, 'labels':labels})#\n",
    "#data.to_csv('text-classifier.csv')\n",
    "        "
   ]
  },
  {
   "cell_type": "code",
   "execution_count": null,
   "metadata": {},
   "outputs": [],
   "source": [
    "resource.dropna(subset = [\"documents\"], inplace=True)"
   ]
  },
  {
   "cell_type": "code",
   "execution_count": null,
   "metadata": {},
   "outputs": [],
   "source": [
    "len(resource)"
   ]
  },
  {
   "cell_type": "code",
   "execution_count": null,
   "metadata": {
    "scrolled": true
   },
   "outputs": [],
   "source": [
    "resource.tail()"
   ]
  },
  {
   "cell_type": "code",
   "execution_count": null,
   "metadata": {},
   "outputs": [],
   "source": [
    "##### data_vector.shape\n",
    "from sklearn.model_selection import train_test_split\n",
    "sentences_train, sentences_test, y_train, y_test = train_test_split(resource['documents'], resource['category'], test_size=0.2, random_state=42)"
   ]
  },
  {
   "cell_type": "code",
   "execution_count": null,
   "metadata": {},
   "outputs": [],
   "source": [
    "#data_vector.shape\n",
    "#from sklearn.model_selection import train_test_split\n",
    "#sentences_train, sentences_test, y_train, y_test = train_test_split(resource['documents'], resource['category'], test_size=0.2, random_state=1)"
   ]
  },
  {
   "cell_type": "code",
   "execution_count": null,
   "metadata": {},
   "outputs": [],
   "source": [
    "print(\"training data instance \", len(sentences_train))\n",
    "print(\"Testing data instance \", len(sentences_test))"
   ]
  },
  {
   "cell_type": "markdown",
   "metadata": {},
   "source": [
    "# Conversion of word to vector"
   ]
  },
  {
   "cell_type": "code",
   "execution_count": null,
   "metadata": {
    "scrolled": true
   },
   "outputs": [],
   "source": [
    "from sklearn.feature_extraction.text import CountVectorizer\n",
    "vectorizer = CountVectorizer()\n",
    "vectorizer.fit(sentences_train)\n",
    "text_vector_train = vectorizer.transform(sentences_train)\n",
    "text_vector_test  = vectorizer.transform(sentences_test)"
   ]
  },
  {
   "cell_type": "code",
   "execution_count": null,
   "metadata": {},
   "outputs": [],
   "source": [
    "text_vector_train.shape"
   ]
  },
  {
   "cell_type": "code",
   "execution_count": null,
   "metadata": {},
   "outputs": [],
   "source": [
    "text_vector_test.shape"
   ]
  },
  {
   "cell_type": "code",
   "execution_count": null,
   "metadata": {},
   "outputs": [],
   "source": [
    "from imblearn.over_sampling import SMOTE\n",
    "sm = SMOTE(random_state=42)\n",
    "X_train_res, y_train_res = sm.fit_sample(text_vector_train, y_train.ravel())"
   ]
  },
  {
   "cell_type": "code",
   "execution_count": null,
   "metadata": {},
   "outputs": [],
   "source": [
    "type(text_vector_train), type(y_train_res)"
   ]
  },
  {
   "cell_type": "markdown",
   "metadata": {
    "scrolled": true
   },
   "source": [
    "for file in y_train.unique():    \n",
    "    print(len(y_train_res[y_train_res == file]))"
   ]
  },
  {
   "cell_type": "code",
   "execution_count": null,
   "metadata": {},
   "outputs": [],
   "source": [
    "print(text_vector_train.shape)\n",
    "print(X_train_res.shape)"
   ]
  },
  {
   "cell_type": "markdown",
   "metadata": {},
   "source": [
    "from imblearn.over_sampling import SMOTE\n",
    "smote=SMOTE('not minority')\n",
    "vector_train_resampled, data_y_train_resampled = smote.fit_resample(vector_train, y_train)\n",
    "#SMOTE(random_state=42).fit_resample("
   ]
  },
  {
   "cell_type": "markdown",
   "metadata": {},
   "source": [
    "# Start of adc training using word to vector only "
   ]
  },
  {
   "cell_type": "code",
   "execution_count": null,
   "metadata": {},
   "outputs": [],
   "source": [
    "from sklearn.naive_bayes import MultinomialNB\n",
    "multi_NB=MultinomialNB()\n",
    "classifier=multi_NB.fit(X_train_res, y_train_res)"
   ]
  },
  {
   "cell_type": "code",
   "execution_count": null,
   "metadata": {},
   "outputs": [],
   "source": [
    "score = classifier.score(text_vector_test, y_test)"
   ]
  },
  {
   "cell_type": "code",
   "execution_count": null,
   "metadata": {},
   "outputs": [],
   "source": [
    "prediction = classifier.predict(text_vector_test)"
   ]
  },
  {
   "cell_type": "code",
   "execution_count": null,
   "metadata": {
    "scrolled": true
   },
   "outputs": [],
   "source": [
    "from sklearn import metrics\n",
    "from sklearn.metrics import accuracy_score\n",
    "print(\"Accuracy : \", accuracy_score(y_test, prediction))\n",
    "print(metrics.classification_report(y_test, prediction, target_names=folders))\n",
    "metrics.confusion_matrix(y_test, prediction)\n",
    "#Accuracy :  0.7303765156349713"
   ]
  },
  {
   "cell_type": "code",
   "execution_count": null,
   "metadata": {},
   "outputs": [],
   "source": [
    "from sklearn.metrics import confusion_matrix\n",
    "cm = confusion_matrix(y_test, prediction)"
   ]
  },
  {
   "cell_type": "code",
   "execution_count": null,
   "metadata": {},
   "outputs": [],
   "source": []
  },
  {
   "cell_type": "code",
   "execution_count": null,
   "metadata": {},
   "outputs": [],
   "source": [
    "import matplotlib.pyplot as plt\n",
    "import itertools\n",
    "cmap = plt.cm.Blues\n",
    "title = \"NB Confusion Matrix\"\n",
    "classes = 8\n",
    "normalize = False\n",
    "tick_marks = np.arange(classes)\n",
    "plt.imshow(cm, interpolation='nearest', cmap=cmap)\n",
    "plt.title(title)\n",
    "plt.colorbar()\n",
    "tick_marks = np.arange(10)\n",
    "#plt.xticks(tick_marks, classes, rotation=45)\n",
    "#plt.yticks(tick_marks, classes)\n",
    "\n",
    "fmt = '.2f' if normalize else 'd'\n",
    "thresh = cm.max() / 5.\n",
    "for i, j in itertools.product(range(cm.shape[0]), range(cm.shape[1])):\n",
    "    plt.text(j, i, format(cm[i, j], fmt),\n",
    "             horizontalalignment=\"center\",\n",
    "             color=\"white\" if cm[i, j] > thresh else \"black\")\n",
    "\n",
    "plt.tight_layout()\n",
    "plt.ylabel('True label')\n",
    "plt.xlabel('Predicted label')\n",
    "plt.show()"
   ]
  },
  {
   "cell_type": "markdown",
   "metadata": {},
   "source": [
    "# End of adc training using word to vector only "
   ]
  },
  {
   "cell_type": "markdown",
   "metadata": {},
   "source": [
    "# Start of adc training using TF*IDF "
   ]
  },
  {
   "cell_type": "code",
   "execution_count": null,
   "metadata": {},
   "outputs": [],
   "source": [
    "from sklearn.feature_extraction.text import TfidfTransformer\n",
    "tfidfvectorizer = TfidfTransformer()\n",
    "tfidf_vector_train = tfidfvectorizer.fit_transform(text_vector_train)\n",
    "tfidf_vector_test = tfidfvectorizer.fit_transform(text_vector_test)"
   ]
  },
  {
   "cell_type": "code",
   "execution_count": null,
   "metadata": {},
   "outputs": [],
   "source": [
    "print(tfidf_vector_train.shape)\n",
    "print(tfidf_vector_test.shape)"
   ]
  },
  {
   "cell_type": "code",
   "execution_count": null,
   "metadata": {},
   "outputs": [],
   "source": [
    "from imblearn.over_sampling import SMOTE\n",
    "sm = SMOTE(random_state=2)\n",
    "tfidf_X_train_res, y_train_res = sm.fit_sample(tfidf_vector_train, y_train.ravel())"
   ]
  },
  {
   "cell_type": "code",
   "execution_count": null,
   "metadata": {},
   "outputs": [],
   "source": [
    "print(tfidf_X_train_res.shape)\n",
    "print(y_train_res.shape)"
   ]
  },
  {
   "cell_type": "code",
   "execution_count": null,
   "metadata": {
    "scrolled": true
   },
   "outputs": [],
   "source": [
    "from sklearn.naive_bayes import MultinomialNB\n",
    "multi_NB=MultinomialNB()\n",
    "classifier=multi_NB.fit(tfidf_X_train_res, y_train_res)"
   ]
  },
  {
   "cell_type": "code",
   "execution_count": null,
   "metadata": {},
   "outputs": [],
   "source": [
    "score_tfidf = classifier.score(tfidf_vector_test, y_test)"
   ]
  },
  {
   "cell_type": "code",
   "execution_count": null,
   "metadata": {},
   "outputs": [],
   "source": [
    "prediction = classifier.predict(tfidf_vector_test)"
   ]
  },
  {
   "cell_type": "code",
   "execution_count": null,
   "metadata": {
    "scrolled": true
   },
   "outputs": [],
   "source": [
    "from sklearn import metrics\n",
    "from sklearn.metrics import accuracy_score\n",
    "print(\"Accuracy : \", accuracy_score(y_test, prediction))\n",
    "print(metrics.classification_report(y_test, prediction, target_names=folders))\n",
    "metrics.confusion_matrix(y_test, prediction)\n",
    "#Accuracy :  0.681397574984046"
   ]
  },
  {
   "cell_type": "markdown",
   "metadata": {},
   "source": [
    "# End of adc training using TF*IDF "
   ]
  },
  {
   "cell_type": "markdown",
   "metadata": {},
   "source": [
    "# K-fold"
   ]
  },
  {
   "cell_type": "markdown",
   "metadata": {
    "scrolled": true
   },
   "source": [
    "from sklearn.linear_model import LogisticRegression\n",
    "from sklearn.ensemble import RandomForestClassifier\n",
    "from sklearn import model_selection\n",
    "from sklearn.model_selection import cross_val_score\n",
    "from sklearn.naive_bayes import MultinomialNB\n",
    "from sklearn.feature_extraction.text import CountVectorizer\n",
    "kfold = model_selection.KFold(n_splits=10)\n",
    "vectorizer = CountVectorizer()\n",
    "sentence=resource['documents']\n",
    "target=resource['category']\n",
    "vectorizer.fit(sentence)\n",
    "text_vector = vectorizer.transform(sentence)\n",
    "model_classifier=MultinomialNB()\n",
    "result = model_selection.cross_val_score(model_classifier,text_vector, target, cv=kfold, scoring='accuracy')\n",
    "print(result.mean())\n",
    "model_classifier = LogisticRegression()\n",
    "result = model_selection.cross_val_score(model_classifier,text_vector, target, cv=kfold, scoring='accuracy')\n",
    "print(result.mean())\n",
    "model_classifier=RandomForestClassifier()\n",
    "result = model_selection.cross_val_score(model_classifier,text_vector, target, cv=kfold, scoring='accuracy')\n",
    "print(result.mean())"
   ]
  },
  {
   "cell_type": "code",
   "execution_count": null,
   "metadata": {},
   "outputs": [],
   "source": [
    "#0.5742675396895893 Multinomial"
   ]
  }
 ],
 "metadata": {
  "kernelspec": {
   "display_name": "Python 3",
   "language": "python",
   "name": "python3"
  },
  "language_info": {
   "codemirror_mode": {
    "name": "ipython",
    "version": 3
   },
   "file_extension": ".py",
   "mimetype": "text/x-python",
   "name": "python",
   "nbconvert_exporter": "python",
   "pygments_lexer": "ipython3",
   "version": "3.7.6"
  }
 },
 "nbformat": 4,
 "nbformat_minor": 2
}
