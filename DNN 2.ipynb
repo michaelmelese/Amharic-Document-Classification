{
 "cells": [
  {
   "cell_type": "code",
   "execution_count": 1,
   "metadata": {},
   "outputs": [
    {
     "name": "stderr",
     "output_type": "stream",
     "text": [
      "Using TensorFlow backend.\n"
     ]
    }
   ],
   "source": [
    "from keras.layers import  Dropout, Dense\n",
    "from keras.models import Sequential\n",
    "from sklearn.feature_extraction.text import TfidfVectorizer\n",
    "from sklearn.feature_extraction.text import CountVectorizer\n",
    "import numpy as np\n",
    "from sklearn import metrics"
   ]
  },
  {
   "cell_type": "code",
   "execution_count": 2,
   "metadata": {},
   "outputs": [],
   "source": [
    "def TFIDF(X_train, X_test, MAX_NB_WORDS=75000):\n",
    "    vectorizer_x = TfidfVectorizer(max_features=MAX_NB_WORDS)\n",
    "    X_train = vectorizer_x.fit_transform(X_train).toarray()\n",
    "    X_test = vectorizer_x.transform(X_test).toarray()\n",
    "    print(\"tf-idf with\",str(np.array(X_train).shape[1]),\"features\")\n",
    "    return (X_train,X_test)"
   ]
  },
  {
   "cell_type": "code",
   "execution_count": 3,
   "metadata": {},
   "outputs": [],
   "source": [
    "def Word_vectorizer(X_train, X_test, MAX_NB_WORDS=100000):\n",
    "    vectorizer = CountVectorizer(max_features=MAX_NB_WORDS)\n",
    "    X_train = vectorizer.fit_transform(X_train).toarray()\n",
    "    X_test = vectorizer.transform(X_test).toarray()\n",
    "    print(\"words with\",str(np.array(X_train).shape[1]),\"features\")\n",
    "    return (X_train,X_test)"
   ]
  },
  {
   "cell_type": "code",
   "execution_count": 4,
   "metadata": {},
   "outputs": [],
   "source": [
    "def Build_Model_DNN_Text(shape, nClasses, dropout=0.5):\n",
    "    \"\"\"\n",
    "    buildModel_DNN_Tex(shape, nClasses,dropout)\n",
    "    Build Deep neural networks Model for text classification\n",
    "    Shape is input feature space\n",
    "    nClasses is number of classes\n",
    "    \"\"\"\n",
    "    model = Sequential()\n",
    "    node = 512 # number of nodes\n",
    "    nLayers = 4 # number of  hidden layer\n",
    "\n",
    "    model.add(Dense(node,input_dim=shape,activation='relu'))\n",
    "    model.add(Dropout(dropout))\n",
    "    for i in range(0,nLayers):\n",
    "        model.add(Dense(node,input_dim=node,activation='relu'))\n",
    "        model.add(Dropout(dropout))\n",
    "    model.add(Dense(nClasses, activation='softmax'))\n",
    "\n",
    "    model.compile(loss='sparse_categorical_crossentropy',\n",
    "                  optimizer='adam',\n",
    "                  metrics=['accuracy'])\n",
    "\n",
    "    return model"
   ]
  },
  {
   "cell_type": "code",
   "execution_count": 5,
   "metadata": {
    "scrolled": true
   },
   "outputs": [
    {
     "name": "stdout",
     "output_type": "stream",
     "text": [
      "words with 100000 features\n"
     ]
    }
   ],
   "source": [
    "import pandas as pd\n",
    "resource = pd.read_csv('adc-word.csv')\n",
    "from sklearn.model_selection import train_test_split\n",
    "sentences_train, sentences_test, y_train, y_test = train_test_split(resource['documents'], resource['category'], test_size=0.2, random_state=42)\n",
    "#from sklearn.datasets import fetch_20newsgroups\n",
    "#newsgroups_train = fetch_20newsgroups(subset='train')\n",
    "#newsgroups_test = fetch_20newsgroups(subset='test')\n",
    "# finally, vectorize the text samples into a 2D integer tensor\n",
    "from sklearn.feature_extraction.text import CountVectorizer\n",
    "vectorizer = CountVectorizer()\n",
    "vectorizer.fit(sentences_train)\n",
    "X_train = vectorizer.transform(sentences_train)\n",
    "X_test  = vectorizer.transform(sentences_test)\n",
    "#y_train = newsgroups_train.target\n",
    "#y_test = newsgroups_test.target\n",
    "X_train_tfidf, X_test_tfidf = Word_vectorizer(sentences_train, sentences_test)"
   ]
  },
  {
   "cell_type": "code",
   "execution_count": 6,
   "metadata": {
    "scrolled": true
   },
   "outputs": [
    {
     "name": "stdout",
     "output_type": "stream",
     "text": [
      "Model: \"sequential_1\"\n",
      "_________________________________________________________________\n",
      "Layer (type)                 Output Shape              Param #   \n",
      "=================================================================\n",
      "dense_1 (Dense)              (None, 512)               51200512  \n",
      "_________________________________________________________________\n",
      "dropout_1 (Dropout)          (None, 512)               0         \n",
      "_________________________________________________________________\n",
      "dense_2 (Dense)              (None, 512)               262656    \n",
      "_________________________________________________________________\n",
      "dropout_2 (Dropout)          (None, 512)               0         \n",
      "_________________________________________________________________\n",
      "dense_3 (Dense)              (None, 512)               262656    \n",
      "_________________________________________________________________\n",
      "dropout_3 (Dropout)          (None, 512)               0         \n",
      "_________________________________________________________________\n",
      "dense_4 (Dense)              (None, 512)               262656    \n",
      "_________________________________________________________________\n",
      "dropout_4 (Dropout)          (None, 512)               0         \n",
      "_________________________________________________________________\n",
      "dense_5 (Dense)              (None, 512)               262656    \n",
      "_________________________________________________________________\n",
      "dropout_5 (Dropout)          (None, 512)               0         \n",
      "_________________________________________________________________\n",
      "dense_6 (Dense)              (None, 8)                 4104      \n",
      "=================================================================\n",
      "Total params: 52,255,240\n",
      "Trainable params: 52,255,240\n",
      "Non-trainable params: 0\n",
      "_________________________________________________________________\n"
     ]
    }
   ],
   "source": [
    "model_DNN = Build_Model_DNN_Text(X_train_tfidf.shape[1], 8)\n",
    "model_DNN.summary()"
   ]
  },
  {
   "cell_type": "code",
   "execution_count": 7,
   "metadata": {},
   "outputs": [
    {
     "name": "stdout",
     "output_type": "stream",
     "text": [
      "Train on 54191 samples, validate on 13548 samples\n",
      "Epoch 1/5\n",
      " - 618s - loss: 0.7990 - accuracy: 0.7331 - val_loss: 0.5032 - val_accuracy: 0.8245\n",
      "Epoch 2/5\n",
      " - 697s - loss: 0.3931 - accuracy: 0.8694 - val_loss: 0.4760 - val_accuracy: 0.8471\n",
      "Epoch 3/5\n",
      " - 680s - loss: 0.2410 - accuracy: 0.9195 - val_loss: 0.5945 - val_accuracy: 0.8445\n",
      "Epoch 4/5\n",
      " - 475s - loss: 0.1732 - accuracy: 0.9454 - val_loss: 0.7166 - val_accuracy: 0.8469\n",
      "Epoch 5/5\n",
      " - 475s - loss: 0.1454 - accuracy: 0.9547 - val_loss: 0.7810 - val_accuracy: 0.8452\n"
     ]
    },
    {
     "data": {
      "text/plain": [
       "<keras.callbacks.callbacks.History at 0x7ffd25cace50>"
      ]
     },
     "execution_count": 7,
     "metadata": {},
     "output_type": "execute_result"
    }
   ],
   "source": [
    "model_DNN.fit(X_train_tfidf, y_train, validation_data=(X_test_tfidf, y_test), epochs=5, batch_size=128, verbose=2)"
   ]
  },
  {
   "cell_type": "code",
   "execution_count": 8,
   "metadata": {
    "scrolled": false
   },
   "outputs": [
    {
     "name": "stdout",
     "output_type": "stream",
     "text": [
      "              precision    recall  f1-score   support\n",
      "\n",
      "           0       0.82      0.83      0.83      4926\n",
      "           1       0.82      0.87      0.85      3215\n",
      "           2       0.86      0.86      0.86      3147\n",
      "           3       0.99      0.98      0.99       766\n",
      "           4       0.97      0.98      0.98       631\n",
      "           5       0.67      0.26      0.37       435\n",
      "           6       0.84      0.78      0.81       313\n",
      "           7       0.90      0.94      0.92       115\n",
      "\n",
      "    accuracy                           0.85     13548\n",
      "   macro avg       0.86      0.81      0.82     13548\n",
      "weighted avg       0.84      0.85      0.84     13548\n",
      "\n"
     ]
    }
   ],
   "source": [
    "predicted = model_DNN.predict_classes(X_test_tfidf)\n",
    "print(metrics.classification_report(y_test, predicted))"
   ]
  },
  {
   "cell_type": "code",
   "execution_count": 9,
   "metadata": {},
   "outputs": [],
   "source": [
    "from sklearn.metrics import confusion_matrix\n",
    "cm = confusion_matrix(y_test, predicted)"
   ]
  },
  {
   "cell_type": "code",
   "execution_count": 12,
   "metadata": {},
   "outputs": [
    {
     "name": "stdout",
     "output_type": "stream",
     "text": [
      "Accuracy :  0.8452170062001771\n"
     ]
    }
   ],
   "source": [
    "from sklearn.metrics import accuracy_score\n",
    "print(\"Accuracy : \", accuracy_score(y_test, predicted))"
   ]
  },
  {
   "cell_type": "code",
   "execution_count": 10,
   "metadata": {},
   "outputs": [
    {
     "name": "stdout",
     "output_type": "stream",
     "text": [
      "[[4099  472  257    7   10   55   21    5]\n",
      " [ 243 2808  150    0    4    0    4    6]\n",
      " [ 282  137 2710    0    2    0   16    0]\n",
      " [  14    1    0  751    0    0    0    0]\n",
      " [   9    3    0    0  618    0    1    0]\n",
      " [ 310    2    3    0    1  112    6    1]\n",
      " [  34    4   30    0    0    0  245    0]\n",
      " [   1    4    2    0    0    0    0  108]]\n"
     ]
    }
   ],
   "source": [
    "print(cm)"
   ]
  },
  {
   "cell_type": "code",
   "execution_count": 11,
   "metadata": {
    "scrolled": true
   },
   "outputs": [
    {
     "data": {
      "image/png": "[encoded data removed]",
      "text/plain": [
       "<Figure size 432x288 with 2 Axes>"
      ]
     },
     "metadata": {
      "needs_background": "light"
     },
     "output_type": "display_data"
    }
   ],
   "source": [
    "import matplotlib.pyplot as plt\n",
    "import itertools\n",
    "cmap = plt.cm.Blues\n",
    "title = \"DNN\"\n",
    "classes = 8\n",
    "normalize = False\n",
    "tick_marks = np.arange(classes)\n",
    "plt.imshow(cm, interpolation='nearest', cmap=cmap)\n",
    "plt.title(title)\n",
    "plt.colorbar()\n",
    "tick_marks = np.arange(10)\n",
    "#plt.xticks(tick_marks, classes, rotation=45)\n",
    "#plt.yticks(tick_marks, classes)\n",
    "\n",
    "fmt = '.2f' if normalize else 'd'\n",
    "thresh = cm.max() / 5.\n",
    "for i, j in itertools.product(range(cm.shape[0]), range(cm.shape[1])):\n",
    "    plt.text(j, i, format(cm[i, j], fmt),\n",
    "             horizontalalignment=\"center\",\n",
    "             color=\"white\" if cm[i, j] > thresh else \"black\")\n",
    "\n",
    "plt.tight_layout()\n",
    "plt.ylabel('True label')\n",
    "plt.xlabel('Predicted label')\n",
    "plt.show()"
   ]
  },
  {
   "cell_type": "code",
   "execution_count": null,
   "metadata": {},
   "outputs": [],
   "source": []
  }
 ],
 "metadata": {
  "kernelspec": {
   "display_name": "Python 3",
   "language": "python",
   "name": "python3"
  },
  "language_info": {
   "codemirror_mode": {
    "name": "ipython",
    "version": 3
   },
   "file_extension": ".py",
   "mimetype": "text/x-python",
   "name": "python",
   "nbconvert_exporter": "python",
   "pygments_lexer": "ipython3",
   "version": "3.7.6"
  }
 },
 "nbformat": 4,
 "nbformat_minor": 4
}
